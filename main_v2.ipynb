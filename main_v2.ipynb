{
 "cells": [
  {
   "cell_type": "markdown",
   "id": "0e40a805-b4c8-4c5f-90e5-f34c40984800",
   "metadata": {},
   "source": [
    "# Exploring StackOverflow!"
   ]
  },
  {
   "cell_type": "code",
   "execution_count": 326,
   "id": "633c5809-17a8-4c32-b86c-f4d1219bd16a",
   "metadata": {},
   "outputs": [],
   "source": [
    "import networkx as nx\n",
    "from datetime import datetime as dt"
   ]
  },
  {
   "cell_type": "markdown",
   "id": "13428b8f-87cc-4e27-860b-3e3d044ed6dc",
   "metadata": {},
   "source": [
    "## Populating the Graphs"
   ]
  },
  {
   "cell_type": "markdown",
   "id": "bf0f8e26-6488-48a3-b8eb-af1da366985c",
   "metadata": {},
   "source": [
    "Each graph is build independantly from the provided `.txt` files of temporal network of interactions. \\\n",
    "Users are represented as nodes and answers\\comments as edges.\n",
    "\n",
    "The design choices of the following method are:\n",
    "- Using undirected graphs for robustness and efficacy of the model. \n",
    "- *Simple* graphs, there are no loops in the graphs. Users who answer to themselves are discarded cases.\n",
    "- Only one attributes is assigned to the edges: weight. The weights are:\n",
    "    - `1` for answers to questions\n",
    "    - `2/3` for comments on questions\n",
    "    - `1/2` for comments to answers\n",
    "- Time resolution is one day.\n",
    "- The graphs are build given a time input to avoid such attribute for the sake of simplicity and robustess.\n",
    "---\n",
    "The following function is populates a graph:"
   ]
  },
  {
   "cell_type": "code",
   "execution_count": 351,
   "id": "90908e21-ec73-4e84-81c7-d53dd4c16bf4",
   "metadata": {},
   "outputs": [],
   "source": [
    "def PopulateGraph(File, TimeInterval):\n",
    "   \"\"\"\n",
    "   Input: \n",
    "      File: txt file of temporal network of interactions\n",
    "      TimeInterval: a tuple of two dates in ISO format representing an interval of time, e.g. (\"2015-12-04\", \"2016-12-04\") \n",
    "   \n",
    "   Output:\n",
    "      A graph corresponding to the input request   \n",
    "   \"\"\"\n",
    "   \n",
    "   TimeInterval = tuple(map(dt.fromisoformat, TimeInterval)) # converting time interval into datetime format\n",
    "   TimeInterval = tuple(map(dt.timestamp, TimeInterval)) # converting time interval into POSIX timestamp \n",
    "   StartDate = str(int(TimeInterval[0])) #converting to string to compare with the txt\n",
    "   EndDate = str(int(TimeInterval[1]))\n",
    "   \n",
    "   WeightDict = {\"sx-stackoverflow-a2q.txt\": 1, \"sx-stackoverflow-c2q.txt\": 2/3, \"sx-stackoverflow-c2a.txt\": 1/3} # assigning the \n",
    "                                                                                                                  # weights to \n",
    "                                                                                                                  # interactions\n",
    "   WeightValue = WeightDict[File] # picking the corresponding weight value\n",
    "   \n",
    "   Graph = nx.Graph() # initializing the graph\n",
    "   \n",
    "   with open(File) as f: # opening the file\n",
    "      while f.readline().split()[-1] < StartDate: # discarding lines with dates before the start date\n",
    "         pass\n",
    "      while f.readline().split()[-1] < EndDate: # reading lines with dates until the end date\n",
    "         Line = f.readline() # reading lines one at each step form the file\n",
    "         Line = tuple(map(int, Line.split())) # splitting the line to distinguish it's contents and converting string to integers\n",
    "         Edge = Line[:2] # the first two elements are nodes, adding the edge to graph automatically adds the nodes\n",
    "         if Edge[0] != Edge[1]: # discarding loops checking if the nodes coincide, i.e. the user answered to himself\n",
    "            if Graph.has_edge(*Edge): # checking if the edge already exists\n",
    "               Graph[Edge[0]][Edge[1]]['weight'] += WeightValue # updating the weight\n",
    "            else: # otherwise...\n",
    "               Graph.add_edge(*Edge, time = TimeValue, weight = WeightValue) # ...adding the edge to the graph\n",
    "                                                                  \n",
    "               \n",
    "   return(Graph)"
   ]
  },
  {
   "cell_type": "code",
   "execution_count": 366,
   "id": "4f1e4884-84a9-42ba-a458-d4344caf39fc",
   "metadata": {},
   "outputs": [],
   "source": [
    "a2qGraph = PopulateGraph(\"sx-stackoverflow-a2q.txt\", (\"2015-01-01\", \"2016-01-01\"))"
   ]
  },
  {
   "cell_type": "markdown",
   "id": "fc402af7-e045-4810-85c8-edfcb05cf39d",
   "metadata": {},
   "source": [
    "### Merging the graphs"
   ]
  },
  {
   "cell_type": "code",
   "execution_count": 199,
   "id": "50bceedf-3ef1-4b08-a92f-2f36a7ee8c2f",
   "metadata": {},
   "outputs": [],
   "source": [
    "#TODO\n",
    "MergedGraphs = nx.Graph()"
   ]
  },
  {
   "cell_type": "markdown",
   "id": "ccc407ce-f7c5-48e9-baf0-75b35f8c6865",
   "metadata": {},
   "source": [
    "## Implementation of the backend"
   ]
  },
  {
   "cell_type": "markdown",
   "id": "4d3198d9-4c5d-49db-a906-8dbff551a931",
   "metadata": {},
   "source": [
    "### Functionality 1 - Get the overall features of the graph"
   ]
  },
  {
   "cell_type": "markdown",
   "id": "52219954-599c-451e-b611-805763fb621b",
   "metadata": {},
   "source": [
    "Graph density/sprcity is computed as defined in *\"Introduction to Algorithms\" by Cormern, Leiserson, Rivest, and Stein*: \\\n",
    "A graph $G = (E, V)$, with $E$ denoting the edges and $V$ denoting the vertices,  is sparse if $|E| << |V|^2$ and dense if $|E|$ is close to $|V|$. \\\n",
    "And so if $|E|$ differs an order of magnitude from $|V|$ the graph is considered sparse, otherwise it is dense.\n",
    "The density degree expression is:\n",
    "\n",
    "\\begin{equation}\n",
    "2\\frac{|V|}{|E|(|E| - 1)} \\approx 2\\frac{|V|}{|E|^2}\n",
    "\\end{equation}"
   ]
  },
  {
   "cell_type": "code",
   "execution_count": 372,
   "id": "e876a7e4-104c-4f63-b848-11d37ea7fdd8",
   "metadata": {},
   "outputs": [],
   "source": [
    "def F1_OverallFeatures(Graph):\n",
    "   \"\"\"\n",
    "   Input: One of the 3 graphs\n",
    "   \n",
    "   Output:\n",
    "      Whether the graph is directed or not\n",
    "      Number of users\n",
    "      Number of answers/comments\n",
    "      Average number of links per user\n",
    "      Density degree of the graph\n",
    "      Whether the graph is sparse or dense\n",
    "   \"\"\"\n",
    "\n",
    "   Directed = Graph.is_directed() # quering if the graph is directed\n",
    "   if Directed: # using a variable to print the output\n",
    "      IsDirectedPrint = 'directed'\n",
    "   else:\n",
    "      IsDirectedPrint = 'undirected'\n",
    "   \n",
    "   NofUsers = Graph.number_of_nodes() # computing the number of users\n",
    "   NofInteractions = Graph.number_of_edges() # computing the number of interactions\n",
    "   \n",
    "   DegreeDict = dict(a2qGraph.degree()) # a dictionary with keys -> nodes, values -> the number of edges incident \n",
    "                                        # to the node a.k.a degree\n",
    "   AvgUserLinks = sum(DegreeDict.values()) / len(DegreeDict) # computing the avarege number of links per user\n",
    "   \n",
    "   DensityDegree = 2 * NofInteractions / NofUsers**2 # computing density degree\n",
    "   \n",
    "   if NofUsers / NofInteractions**2 < 10: # evaluating sparsity/density\n",
    "      SparseDense = 'sparse'\n",
    "   else:\n",
    "      SparseDense = 'dense'\n",
    "   \n",
    "   print(f\"The input graph is {IsDirectedPrint}\\n\\\n",
    "Number of users: {NofUsers}\\n\\\n",
    "Number of answers/comments: {NofInteractions}\\n\\\n",
    "Average number of links per user: {AvgUserLinks:.2}\\n\\\n",
    "Density degree: {DensityDegree: .2}\\n\\\n",
    "The graph is {SparseDense}\")"
   ]
  },
  {
   "cell_type": "code",
   "execution_count": 373,
   "id": "4fd84ba2-5d0e-4890-a02a-5d8fa389a606",
   "metadata": {},
   "outputs": [
    {
     "name": "stdout",
     "output_type": "stream",
     "text": [
      "The input graph is undirected\n",
      "Number of users: 714167\n",
      "Number of answers/comments: 1429455\n",
      "Average number of links per user: 4.0\n",
      "Density degree:  5.6e-06\n",
      "The graph is sparse\n"
     ]
    }
   ],
   "source": [
    "F1_OverallFeatures(a2qGraph)"
   ]
  },
  {
   "cell_type": "markdown",
   "id": "2c082fc5-e279-4ed4-aa69-ef9435efe06e",
   "metadata": {},
   "source": [
    "### Functionality 2 - Find the best users!"
   ]
  },
  {
   "cell_type": "markdown",
   "id": "114fc890-f318-422f-9cd0-7d649dd46a6e",
   "metadata": {},
   "source": [
    "#### Degree centrality\n",
    "As defined in *Introduction to Graph Concepts for Data Science of Aris Anagnostopoulos*, the normalized degree centrality of node $v$ is:\n",
    "\n",
    "\\begin{equation}\n",
    "\\frac{d_v}{|V|-1} \\approx \\frac{d_v}{|V|}\n",
    "\\end{equation}\n",
    "\n",
    "with $d_v$ the degree of the node $v$, i.e. the number of edges incident to the node."
   ]
  },
  {
   "cell_type": "code",
   "execution_count": 206,
   "id": "83655f9a-1eea-4b88-96e6-802b18206f2c",
   "metadata": {},
   "outputs": [],
   "source": [
    "def DegreeCentrality(Graph, Node):\n",
    "   return Graph.degree() / Graph.number_of_edges()"
   ]
  },
  {
   "cell_type": "markdown",
   "id": "5e45da09-30c8-4288-b7d4-0744200af52a",
   "metadata": {},
   "source": [
    "#### Closeness centrality\n",
    "As defined in *Introduction to Graph Concepts for Data Science of Aris Anagnostopoulos*, the normalized closeness centrality of node $v$ is:\n",
    "\n",
    "\n",
    "\\begin{equation}\n",
    "\\frac{|V|-1}{\\sum_{u \\epsilon V} d(v,u)} \\approx \\frac{|V|}{\\sum_{u \\epsilon V} d(v,u)}\n",
    "\\end{equation}\n",
    "\n",
    "with $d(v,u)$ the distance between nodes $v$ and $u$, that is the length of a shortest path between $v$ and $u$.\\\n",
    "As a design choice $d(v,u)$ is taken as the inverse of the weight of the edge of $(v,u)$, this leads to an inverse relationship between interaction and distances: the more a user posts, the closer he gets to the comunity.  "
   ]
  },
  {
   "cell_type": "code",
   "execution_count": 183,
   "id": "2e433537-64c2-4ca1-b45b-38a157bdea20",
   "metadata": {},
   "outputs": [],
   "source": [
    "def ClosenessCentrality(Graph, Node):\n",
    "   \n",
    "   SummedDistances = Graph[Node]\n",
    "   \n",
    "   return Graph.number_of_nodes() / SummedDistances"
   ]
  },
  {
   "cell_type": "markdown",
   "id": "6df06f29-b1a6-496e-8dbb-6d1149e30120",
   "metadata": {},
   "source": [
    "#### Page rank"
   ]
  },
  {
   "cell_type": "code",
   "execution_count": 181,
   "id": "70004ef9-ef61-4945-9718-9a8c2071aeaa",
   "metadata": {},
   "outputs": [],
   "source": [
    "def PageRank(Graph, Node):\n",
    "   pass"
   ]
  },
  {
   "cell_type": "markdown",
   "id": "f464eae7-5352-4065-841f-c29e847a46b5",
   "metadata": {},
   "source": [
    "#### Betweeness\n",
    "\n",
    "As defined in *Introduction to Graph Concepts for Data Science of Aris Anagnostopoulos*, the Betweeness centrality of node $v$ is:\n",
    "\n",
    "\\begin{equation}\n",
    "\\sum_{u, w \\epsilon V \\backslash \\{v\\}} \\frac{g_{u w}^v}{g_{uw}} \\frac{2}{|V|^2 - 3|V| + 2} \n",
    "\\end{equation}\n",
    "\n",
    "\n",
    "with $g_{uw}$ the shortest path that connects nodes $u$ and $w$ and $g_{u w}^v$ the set of those shortest paths between u and w that contain node $v$."
   ]
  },
  {
   "cell_type": "code",
   "execution_count": 195,
   "id": "e51e9c76-1dc1-462d-aa22-2f503cd3c262",
   "metadata": {},
   "outputs": [],
   "source": [
    "def Betweeness(Graph, Node):\n",
    "   "
   ]
  },
  {
   "cell_type": "code",
   "execution_count": 201,
   "id": "302fb6e4-12fb-4304-b97c-c6dac18fa1e8",
   "metadata": {},
   "outputs": [],
   "source": [
    "def F2_BestUser(Node, TimeInterval, Metric, Graph = MergedGraphs):\n",
    "   \"\"\"\n",
    "   Input:\n",
    "   A user/node\n",
    "   A tuple of two dates in ISO format representing an interval of time, e.g. (2015-12-04, 2016-12-04) \n",
    "   An integer corresponding to the following metrics: \n",
    "      1 -> Betweeness \n",
    "      2 -> PageRank\n",
    "      3 -> ClosenessCentrality \n",
    "      4 -> DegreeCentrality\n",
    "   The graph on which to perform the analysis.\n",
    "   \n",
    "   Output:\n",
    "   The value of the given metric applied over the complete graph for the given interval of time.\n",
    "   \"\"\"\n",
    "   \n",
    "   TimeInterval = tuple(map(dt.fromisoformat, TimeInterval)) # converting time interval into datetime format\n",
    "   IntToMetric = {1: Betweeness, 2: PageRank, 3: ClosenessCentrality, 4: DegreeCentrality} # dictionary associating the\n",
    "                                                                                           # input integer to the\n",
    "                                                                                           # corresponding metric function\n",
    "    \n",
    "   TimeIntervalGraph = Graph.copy() # creating a copy on which to perform the time filtering\n",
    "   TimeIntervalGraph.remove_edges_from([(n1, n2) for n1, n2, time in TimeIntervalGraph.edges(data=\"time\") \n",
    "                                        if (time >= TimeInterval[0] & time <= TimeInterval[1])]) # removing the edges that not belong\n",
    "                                                                                                 # to the input time interval  \n",
    "   \n",
    "   return IntToMetric[Metric](TimeIntervalGraph, Node)"
   ]
  }
 ],
 "metadata": {
  "kernelspec": {
   "display_name": "Python 3 (ipykernel)",
   "language": "python",
   "name": "python3"
  },
  "language_info": {
   "codemirror_mode": {
    "name": "ipython",
    "version": 3
   },
   "file_extension": ".py",
   "mimetype": "text/x-python",
   "name": "python",
   "nbconvert_exporter": "python",
   "pygments_lexer": "ipython3",
   "version": "3.9.9"
  }
 },
 "nbformat": 4,
 "nbformat_minor": 5
}
