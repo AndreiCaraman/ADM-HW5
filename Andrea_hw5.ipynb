{
 "cells": [
  {
   "cell_type": "markdown",
   "id": "54386623-b4ac-4fbb-ae5b-fbf8b4983b00",
   "metadata": {
    "tags": []
   },
   "source": [
    "# Homework"
   ]
  },
  {
   "cell_type": "code",
   "execution_count": 1,
   "id": "11ec3d83-3840-4604-b795-cf0051c386b9",
   "metadata": {},
   "outputs": [],
   "source": [
    "import networkx as nx\n",
    "import matplotlib.pyplot as plt\n",
    "import pandas as pd\n",
    "from tqdm import tqdm\n",
    "from datetime import datetime"
   ]
  },
  {
   "cell_type": "markdown",
   "id": "ae36caa5-2c94-494c-8b59-b81b066e589b",
   "metadata": {},
   "source": [
    "## Graph"
   ]
  },
  {
   "cell_type": "code",
   "execution_count": 2,
   "id": "3f1cf217-4917-4fab-a016-d8aae580c26a",
   "metadata": {},
   "outputs": [],
   "source": [
    "def from_time_int_to_dates(time_interval):\n",
    "    # Convert the time interval in start and end dates \n",
    "    time_interval = tuple(map(datetime.fromisoformat, time_interval)) # converting time interval into datetime format\n",
    "    time_interval = tuple(map(datetime.timestamp, time_interval)) # converting time interval into POSIX timestamp \n",
    "    start_d = int(time_interval[0]) #converting to string to compare with the txt\n",
    "    end_d = int(time_interval[1])\n",
    "    return start_d, end_d"
   ]
  },
  {
   "cell_type": "code",
   "execution_count": 3,
   "id": "01fa146e-6614-4a5c-89eb-a60358889e28",
   "metadata": {},
   "outputs": [],
   "source": [
    "def get_full_graph(file):\n",
    "    \n",
    "    # Initialize the directed graph\n",
    "    G = nx.DiGraph()\n",
    "    \n",
    "    # Create mapping of files\n",
    "    map_files = {1: \"sx-stackoverflow-a2q.txt\", 2:\"sx-stackoverflow-c2q.txt\", 3:\"sx-stackoverflow-c2a.txt\"}\n",
    "    \n",
    "    # Select the file chosen, open it and read the lines\n",
    "    with open(map_files[file], \"r\", encoding=\"UTF-8\") as f:\n",
    "        for line in tqdm(f.readlines()):\n",
    "            \n",
    "            # Parse the line\n",
    "            elems = line.split(' ')\n",
    "            \n",
    "            # Add the edge to the graph if it is not present\n",
    "            if (elems[0], elems[1]) not in G.edges():\n",
    "                G.add_edge(elems[0], elems[1])\n",
    "                    \n",
    "    return G"
   ]
  },
  {
   "cell_type": "code",
   "execution_count": null,
   "id": "79abbfe1-310e-4171-9be1-b6a2434662e4",
   "metadata": {},
   "outputs": [
    {
     "name": "stderr",
     "output_type": "stream",
     "text": [
      " 78%|███████▊  | 13913140/17823525 [19:07<04:44, 13727.55it/s] "
     ]
    }
   ],
   "source": [
    "graph1_full = get_full_graph(1)"
   ]
  },
  {
   "cell_type": "code",
   "execution_count": null,
   "id": "f22d85cf-7dc1-48e0-a192-e24fdf55fa11",
   "metadata": {},
   "outputs": [],
   "source": [
    "graph2_full = get_full_graph(2)"
   ]
  },
  {
   "cell_type": "code",
   "execution_count": null,
   "id": "66e601e7-7b7e-4164-884a-a2a0410d41d3",
   "metadata": {},
   "outputs": [],
   "source": [
    "graph3_full = get_full_graph(3)"
   ]
  },
  {
   "cell_type": "code",
   "execution_count": null,
   "id": "ea591c00-2fd7-4634-8e76-aa983b054401",
   "metadata": {},
   "outputs": [],
   "source": [
    "print(graph1_full)\n",
    "print(graph2_full)\n",
    "print(graph3_full)"
   ]
  },
  {
   "cell_type": "markdown",
   "id": "c0c0e4dd-08f0-440c-a20f-57e211be8af8",
   "metadata": {},
   "source": [
    "#### Write the 3 full graphs into files"
   ]
  },
  {
   "cell_type": "code",
   "execution_count": null,
   "id": "24cb4265-d53d-4d27-8571-1f8623640ddb",
   "metadata": {},
   "outputs": [],
   "source": [
    "nx.write_gml(graph1_full, \"graph1_full\")"
   ]
  },
  {
   "cell_type": "code",
   "execution_count": null,
   "id": "266d9e4e-7f41-4b8e-a75c-3264dd2f5d19",
   "metadata": {},
   "outputs": [],
   "source": [
    "nx.write_gml(graph2_full, \"graph2_full\")"
   ]
  },
  {
   "cell_type": "code",
   "execution_count": null,
   "id": "53784624-95e9-4b15-a272-5c17e091e65f",
   "metadata": {},
   "outputs": [],
   "source": [
    "nx.write_gml(graph3_full, \"graph3_full\")"
   ]
  },
  {
   "cell_type": "markdown",
   "id": "718de0eb-6f6b-4379-8f16-56dff17e00ec",
   "metadata": {},
   "source": [
    "#### Read the 3 full graphs from files"
   ]
  },
  {
   "cell_type": "code",
   "execution_count": null,
   "id": "5032d007-7ac5-4f4b-9ba2-4ce2c5dd3f2e",
   "metadata": {},
   "outputs": [],
   "source": [
    "nx.read_gml(\"graph1_full\")\n",
    "nx.read_gml(\"graph2_full\")\n",
    "nx.read_gml(\"graph3_full\")"
   ]
  },
  {
   "cell_type": "code",
   "execution_count": 4,
   "id": "eecff5e5-c8dc-4640-8511-4c4d75b814ec",
   "metadata": {},
   "outputs": [],
   "source": [
    "def get_graph(time_interval, file = 3):\n",
    "    \n",
    "    # Initialize the directed graph\n",
    "    G = nx.DiGraph()\n",
    "    \n",
    "    # Create mapping of files and mapping of weights\n",
    "    map_files = {1: \"sx-stackoverflow-a2q.txt\", 2:\"sx-stackoverflow-c2q.txt\", 3:\"sx-stackoverflow-c2a.txt\"}\n",
    "    map_weights = {1: 1.0, 2: 2/3, 3: 1/2}\n",
    "    \n",
    "    # Get the start and end dates \n",
    "    start, end = from_time_int_to_dates(time_interval)\n",
    "    \n",
    "    # Select the file chosen, open it and read the lines\n",
    "    with open(map_files[file], \"r\", encoding=\"UTF-8\") as f:\n",
    "        for line in tqdm(f.readlines()):\n",
    "            \n",
    "            # Parse the line\n",
    "            elems = line.split(' ')\n",
    "            \n",
    "            # Add to the graph if it is in the time interval\n",
    "            if start <= int(elems[2]) <= end:\n",
    "                # If the edge already exists --> increment the weight, else simply add the new edge\n",
    "                if (elems[0], elems[1]) in G.edges():\n",
    "                    G[elems[0]][elems[1]]['weight'] += float(map_weights[file])\n",
    "                else:\n",
    "                    G.add_edge(elems[0], elems[1], weight = float(map_weights[file]))\n",
    "                    \n",
    "    return G"
   ]
  },
  {
   "cell_type": "code",
   "execution_count": 5,
   "id": "e0ad5940-1419-45e4-964d-95eda7932edb",
   "metadata": {},
   "outputs": [
    {
     "name": "stderr",
     "output_type": "stream",
     "text": [
      "100%|██████████| 17823525/17823525 [00:10<00:00, 1645799.10it/s]\n"
     ]
    }
   ],
   "source": [
    "graph1 = get_graph(time_interval=(\"2008-11-01\",\"2008-11-02\"), file=1)"
   ]
  },
  {
   "cell_type": "code",
   "execution_count": 6,
   "id": "2c5c6408-2923-4f03-99fe-c8603b116687",
   "metadata": {},
   "outputs": [
    {
     "name": "stderr",
     "output_type": "stream",
     "text": [
      "100%|██████████| 20268151/20268151 [00:12<00:00, 1616983.05it/s]\n"
     ]
    }
   ],
   "source": [
    "graph2 = get_graph(time_interval=(\"2008-11-01\",\"2008-11-02\"), file=2)"
   ]
  },
  {
   "cell_type": "code",
   "execution_count": 7,
   "id": "085f415a-ccc8-4227-817c-e9935026ee89",
   "metadata": {},
   "outputs": [
    {
     "name": "stderr",
     "output_type": "stream",
     "text": [
      "100%|██████████| 25405374/25405374 [00:16<00:00, 1586888.43it/s]\n"
     ]
    }
   ],
   "source": [
    "graph3 = get_graph(time_interval=(\"2008-11-01\",\"2008-11-02\"), file=3)"
   ]
  },
  {
   "cell_type": "markdown",
   "id": "36273df5-2ac1-4c11-923a-d671b863375f",
   "metadata": {},
   "source": [
    "## Merged"
   ]
  },
  {
   "cell_type": "markdown",
   "id": "8b9f2fa4-f92b-40d7-bf39-29ab82f68626",
   "metadata": {},
   "source": [
    "This function will merge two graphs that were obtained by the function **get_graph()** with the same time interval. "
   ]
  },
  {
   "cell_type": "code",
   "execution_count": 8,
   "id": "b4c651b1-821e-4f60-90af-3ee08fdf0b0b",
   "metadata": {},
   "outputs": [],
   "source": [
    "def merged_graph(graph_1, graph_2):\n",
    "    \n",
    "    # Iterate over the edges from the second graph\n",
    "    for edge_2 in graph_2.edges(data = True):\n",
    "        # If the edge of graph 2 is also in graph 1, only sum weights\n",
    "        if (edge_2[0],edge_2[1]) in graph_1.edges():\n",
    "            graph_1[edge_2[0]][edge_2[1]]['weight'] += float(edge_2[2]['weight'])\n",
    "        # Else add the edge of graph 2 also in graph 1\n",
    "        else:\n",
    "            graph_1.add_edge(edge_2[0], edge_2[1], weight = float(edge_2[2]['weight']))\n",
    "            \n",
    "    return graph_1"
   ]
  },
  {
   "cell_type": "code",
   "execution_count": 9,
   "id": "bedf14a4-b5c1-4de2-aed2-a7ce027386c4",
   "metadata": {},
   "outputs": [],
   "source": [
    "merged = merged_graph(graph1, graph2)\n",
    "merged = merged_graph(merged, graph3)"
   ]
  },
  {
   "cell_type": "code",
   "execution_count": 10,
   "id": "f9411306-6338-4b8d-9b79-85187f866b2b",
   "metadata": {},
   "outputs": [],
   "source": [
    "dict_merged = nx.to_dict_of_dicts(merged)"
   ]
  },
  {
   "cell_type": "code",
   "execution_count": 16,
   "id": "a02e4cc7-eca5-4c41-b56d-87d7ef34e999",
   "metadata": {},
   "outputs": [],
   "source": [
    "def directed(dict_graph):\n",
    "    direct = False\n",
    "    for node, neighbours in dict_graph.items():\n",
    "        for neighbour in list(neighbours.keys()):\n",
    "            if node not in list(dict_graph[neighbour].keys()):\n",
    "                direct = True\n",
    "                break\n",
    "    return direct"
   ]
  },
  {
   "cell_type": "code",
   "execution_count": 17,
   "id": "251762dd-07b3-4442-9326-438856fe2167",
   "metadata": {},
   "outputs": [
    {
     "name": "stdout",
     "output_type": "stream",
     "text": [
      "True\n"
     ]
    }
   ],
   "source": [
    "print(directed(dict_merged))"
   ]
  }
 ],
 "metadata": {
  "kernelspec": {
   "display_name": "Python 3 (ipykernel)",
   "language": "python",
   "name": "python3"
  },
  "language_info": {
   "codemirror_mode": {
    "name": "ipython",
    "version": 3
   },
   "file_extension": ".py",
   "mimetype": "text/x-python",
   "name": "python",
   "nbconvert_exporter": "python",
   "pygments_lexer": "ipython3",
   "version": "3.7.6"
  }
 },
 "nbformat": 4,
 "nbformat_minor": 5
}
