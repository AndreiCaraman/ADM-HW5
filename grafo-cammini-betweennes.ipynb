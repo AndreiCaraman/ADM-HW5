{
 "cells": [
  {
   "cell_type": "markdown",
   "id": "8fc2afda-ca77-4e07-98a5-49c155a56a27",
   "metadata": {},
   "source": [
    "Fai girare le funzioni:\n",
    "\n",
    "`BFS_F4` \\\n",
    "shortest_path_Dijkstra\n",
    "build_merged_graph\n",
    "degree\n",
    "`"
   ]
  },
  {
   "cell_type": "code",
   "execution_count": null,
   "id": "f9c02723-7744-4d4c-a3fd-1919c6d1bc4a",
   "metadata": {},
   "outputs": [],
   "source": [
    "gX, dX = build_merged_graph((\"2008-11-01 00:00\",\"2008-11-02 00:00\"))\n",
    "gY, dY = build_merged_graph((\"2008-11-02 00:00\",\"2008-11-03 00:00\"))\n",
    "\n",
    "# user buisness\n",
    "for node in [*gX.nodes]:\n",
    "    if degree(gX, node) < 4:\n",
    "        gX.remove_node(node)\n",
    "\n",
    "for node in [*gY.nodes]:\n",
    "    if degree(gY, node) < 4:\n",
    "        gY.remove_node(node)\n",
    "\n",
    "sX = {*gX.nodes}\n",
    "\n",
    "sY = {*gY.nodes}\n",
    "\n",
    "justY = set.difference(sY, sX)\n",
    "justX = set.difference(sX, sY)\n",
    "\n",
    "G = nx.compose(gX, gY)\n",
    "dG = nx.to_dict_of_dicts(G)\n",
    "# searching paths\n",
    "try:\n",
    "    tmp = justX.pop() # temporay varible for storing a random user\n",
    "    while not dX[tmp].values(): # discarding unconnected user\n",
    "        tmp = justX.pop()\n",
    "    userX = tmp\n",
    "    tmp = justY.pop() # temporay varible for storing a random user\n",
    "    while not dY[tmp].values(): # discarding unconnected user\n",
    "        tmp = justY.pop()\n",
    "    userY = tmp\n",
    "\n",
    "    _, Distance = shortest_path_Dijkstra(dG, userX)\n",
    "\n",
    "    while Distance[userY] == float('inf'):\n",
    "        tmp = justX.pop() # temporay varible for storing a random user\n",
    "        while not dX[tmp].values(): # discarding unconnected user\n",
    "            tmp = justX.pop()\n",
    "        userX = tmp\n",
    "        tmp = justY.pop() # temporay varible for storing a random user\n",
    "        while not dY[tmp].values(): # discarding unconnected user\n",
    "            tmp = justY.pop()\n",
    "        userY = tmp\n",
    "\n",
    "        _, Distance = shortest_path_Dijkstra(dG, userX)\n",
    "\n",
    "    Paths = BFS_F4(dG, userX, userY)\n",
    "\n",
    "except KeyError:\n",
    "    print(\"No paths availible\")"
   ]
  },
  {
   "cell_type": "code",
   "execution_count": null,
   "id": "b816813a-810d-4f03-8b59-855a76bbdf9c",
   "metadata": {},
   "outputs": [],
   "source": [
    "G # il grafo per il test\n",
    "dG # il relativo dizionario\n",
    "userX # user da cui iniziano i cammini\n",
    "userY # user ove finiscono i cammini\n",
    "Paths # i cammini"
   ]
  }
 ],
 "metadata": {
  "kernelspec": {
   "display_name": "Python 3 (ipykernel)",
   "language": "python",
   "name": "python3"
  },
  "language_info": {
   "codemirror_mode": {
    "name": "ipython",
    "version": 3
   },
   "file_extension": ".py",
   "mimetype": "text/x-python",
   "name": "python",
   "nbconvert_exporter": "python",
   "pygments_lexer": "ipython3",
   "version": "3.9.9"
  }
 },
 "nbformat": 4,
 "nbformat_minor": 5
}
