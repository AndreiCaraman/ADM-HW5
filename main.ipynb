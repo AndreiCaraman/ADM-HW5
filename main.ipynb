{
 "cells": [
  {
   "cell_type": "markdown",
   "id": "c8e89417-c943-4ebd-a467-c83f86020233",
   "metadata": {
    "jp-MarkdownHeadingCollapsed": true,
    "tags": []
   },
   "source": [
    "### Things to understand:\n",
    "- Density degree of the graph? Whether the graph is sparse or dense?\n",
    "- handle the case that the graph is not connected\n",
    "\n",
    "\n",
    "- Maybe discard unanswered questions?\n",
    "\n",
    "A 2013 study has found that 75% of users only ask one question, 65% only answer one question, and only 8% of users answer more than 5 questions."
   ]
  },
  {
   "cell_type": "markdown",
   "id": "0e40a805-b4c8-4c5f-90e5-f34c40984800",
   "metadata": {},
   "source": [
    "# Exploring StackOverflow!"
   ]
  },
  {
   "cell_type": "code",
   "execution_count": 15,
   "id": "633c5809-17a8-4c32-b86c-f4d1219bd16a",
   "metadata": {},
   "outputs": [],
   "source": [
    "import networkx as nx\n",
    "from datetime import date as dt\n",
    "import matplotlib.pyplot as plt"
   ]
  },
  {
   "cell_type": "markdown",
   "id": "6844a719-2698-4d27-92ed-3fba3e5dd517",
   "metadata": {},
   "source": [
    "Global variables:"
   ]
  },
  {
   "cell_type": "code",
   "execution_count": 2,
   "id": "0ff6652e-2116-410e-9f91-43a908d3e919",
   "metadata": {},
   "outputs": [],
   "source": [
    "N_LINES_TO_READ = 100000"
   ]
  },
  {
   "cell_type": "markdown",
   "id": "13428b8f-87cc-4e27-860b-3e3d044ed6dc",
   "metadata": {},
   "source": [
    "## Populating the Graphs"
   ]
  },
  {
   "cell_type": "markdown",
   "id": "bf0f8e26-6488-48a3-b8eb-af1da366985c",
   "metadata": {},
   "source": [
    "Each graph is build independantly from the provided `.txt` files of temporal network of interactions. \\\n",
    "Users are represented as nodes and answers\\comments as edges.\n",
    "\n",
    "The design choices of the following method are:\n",
    "- Undirected graphs. The benifits provided by the information of the order of the edge pairs is not relevant for the following analisis and would make the model less robust.\n",
    "- *Simple* graphs, there are no loops in the graphs. Users who answer to themselves are discarded cases.\n",
    "- Two attribute are assigned to the edges: time and weight. The weights are:\n",
    "    - `1` for answers to questions\n",
    "    - `2/3` for comments on questions\n",
    "    - `1/2` for comments to answers\n",
    "- Time resolution is one day."
   ]
  },
  {
   "cell_type": "markdown",
   "id": "c9593882-a211-4620-b12e-d55b27629095",
   "metadata": {},
   "source": [
    "### The `a2q` graph: answers of questions as edges"
   ]
  },
  {
   "cell_type": "code",
   "execution_count": 84,
   "id": "90908e21-ec73-4e84-81c7-d53dd4c16bf4",
   "metadata": {},
   "outputs": [],
   "source": [
    "with open('sx-stackoverflow-a2q.txt') as f: # opening the file\n",
    "    a2qGraph = nx.Graph() # initializing the graph\n",
    "    for i in range(0, N_LINES_TO_READ): # only a part of the dataset is used\n",
    "        Line = f.readline() # reading lines one at each step form the file\n",
    "        Line = tuple(map(int, Line.split())) # splitting the line to distinguish it's contents and converting string to integers\n",
    "        Edge = Line[:2] # the first two elements are nodes, adding the edge to graph automatically adds the nodes\n",
    "        if Edge[0] != Edge[1]: # discarding loops checking if the nodes coincide, i.e. the user answered to himself\n",
    "            TimeValue = Line[2]  # the third elemt is time in Unix timestamp\n",
    "            TimeValue = dt.fromtimestamp(TimeValue) # the conversion to date format\n",
    "\n",
    "            a2qGraph.add_edge(*Edge, time = TimeValue, weight = 1) # adding the edge to the graph"
   ]
  },
  {
   "cell_type": "markdown",
   "id": "ccc407ce-f7c5-48e9-baf0-75b35f8c6865",
   "metadata": {},
   "source": [
    "## Implementation of the backend"
   ]
  },
  {
   "cell_type": "markdown",
   "id": "4d3198d9-4c5d-49db-a906-8dbff551a931",
   "metadata": {},
   "source": [
    "### Functionality 1 - Get the overall features of the graph"
   ]
  },
  {
   "cell_type": "code",
   "execution_count": null,
   "id": "e876a7e4-104c-4f63-b848-11d37ea7fdd8",
   "metadata": {},
   "outputs": [],
   "source": [
    "def F1OverallFeatures(InputGraph):\n",
    "   \"\"\"\n",
    "   Input: One of the 3 graphs\n",
    "   \n",
    "   Output:\n",
    "      Whether the graph is directed or not\n",
    "      Number of users\n",
    "      Number of answers/comments\n",
    "      Average number of links per user\n",
    "      Density degree of the graph\n",
    "      Whether the graph is sparse or dense\n",
    "   \"\"\"\n",
    "\n",
    "   Directed = InputGraph.is_directed() # quering if the graph is directed\n",
    "   if Directed: # using a variable to print the output\n",
    "      OutputString = 'Directed'\n",
    "   else:\n",
    "      OutputString = 'Unirected'\n",
    "   \n",
    "   NofUsers = InputGraph.number_of_nodes() # computing the number of users\n",
    "   NofInteractions = InputGraph.number_of_edges() # computing the number of interactions\n",
    "   \n",
    "   DegreeDict = dict(a2qGraph.degree()) # a dictionary with keys -> nodes, values -> the number of edges incident \n",
    "                                        # to the node a.k.a degree\n",
    "   AvgUserLinks = sum(DegreeDict.values()) / len(DegreeDict)\n",
    "   \n",
    "   \n",
    "   \n",
    "   print(f\"The input graph is {OutputString}\\n\\\n",
    "   Number of users: {NofUsers}\\n\\\n",
    "   Number of answers/comments: {NofInteractions}\\n\\\n",
    "   Average number of links per user: {AvgUserLinks}\\n\\\n",
    "   \")"
   ]
  }
 ],
 "metadata": {
  "kernelspec": {
   "display_name": "Python 3 (ipykernel)",
   "language": "python",
   "name": "python3"
  },
  "language_info": {
   "codemirror_mode": {
    "name": "ipython",
    "version": 3
   },
   "file_extension": ".py",
   "mimetype": "text/x-python",
   "name": "python",
   "nbconvert_exporter": "python",
   "pygments_lexer": "ipython3",
   "version": "3.9.9"
  }
 },
 "nbformat": 4,
 "nbformat_minor": 5
}
